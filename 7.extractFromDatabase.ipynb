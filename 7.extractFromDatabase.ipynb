{
 "cells": [
  {
   "cell_type": "code",
   "execution_count": 5,
   "metadata": {},
   "outputs": [],
   "source": [
    "#from __future__ import division #Doesn't work even though it's suppose to do division using floats\n",
    "import sqlite3\n",
    "import pandas as pd\n",
    "import numpy as np\n",
    "conn = sqlite3.connect(\"studies101And102.db\")\n",
    "curs = conn.cursor()\n",
    "\n",
    "curs.execute(\"CREATE TABLE IF NOT EXISTS q1StronglyDisagreeOrDisagree AS SELECT count(*) from responses_table WHERE question_id='Q1' AND response<3\")\n",
    "\n",
    "curs.execute(\"CREATE TABLE IF NOT EXISTS q1GroupBySexStronglyDisagreeOrDisagree AS SELECT Sex, count(*) from responses_table INNER JOIN respondents_table on respondents_table.respondent_id = responses_table.respondent_id AND respondents_table.study_id = responses_table.study_id WHERE question_id='Q1' AND response<3 GROUP BY Sex\")\n",
    "\n",
    "curs.execute(\"CREATE TABLE IF NOT EXISTS response_cat_table (response INTEGER PRIMARY KEY, response_cat STRING);\")\n",
    "curs.execute(\"INSERT OR IGNORE INTO response_cat_table (response, response_cat) VALUES (1, 'Disagree or strongly disagree'), (2, 'Disagree or strongly disagree'), (3, 'Neutral'), (4, 'Agree or strongly agree'), (5, 'Agree or strongly agree'), (6, 'Do not know or not sure');\")\n",
    "curs.execute(\"CREATE TABLE IF NOT EXISTS q1GroupBySexAndResponseCat AS SELECT Sex, response_cat, count(*) from responses_table INNER JOIN respondents_table on respondents_table.respondent_id = responses_table.respondent_id AND respondents_table.study_id = responses_table.study_id INNER JOIN response_cat_table on responses_table.response = response_cat_table.response WHERE question_id='Q1' AND responses_table.response<6 GROUP BY Sex, response_cat\")\n",
    "\n",
    "#curs.execute(\"CREATE TABLE IF NOT EXISTS q3CountEachOption AS SELECT question_id, count(*) from responses_table WHERE question_id LIKE 'Q3%' AND response=1 GROUP BY question_id\")\n",
    "curs.execute(\"CREATE TABLE IF NOT EXISTS q3ProportionOfEachOption AS SELECT question_id, count(*)/20.0 proportion from responses_table WHERE question_id LIKE 'Q3%' AND response=1 GROUP BY question_id\")\n",
    "\n",
    "curs.execute(\"CREATE TABLE IF NOT EXISTS q3ProportionOfEachOptionGroupBySex AS SELECT question_id, Sex, sum(response)/10.0 AS proportion from responses_table INNER JOIN respondents_table on respondents_table.respondent_id = responses_table.respondent_id AND respondents_table.study_id = responses_table.study_id WHERE question_id LIKE 'Q3%' GROUP BY question_id, Sex\")\n",
    "\n",
    "studyId = 102\n",
    "curs.execute(\"SELECT respondent_id, study_id, Number_of_children FROM respondents_table WHERE study_id=\"+str(studyId))\n",
    "numberOfChildrenCategorised = curs.fetchall()\n",
    "curs.execute(\"CREATE TABLE IF NOT EXISTS number_of_children_categorised (respondent_id, study_id, number_of_children_cat STRING);\")\n",
    "for row in numberOfChildrenCategorised:\n",
    "    if row[2]==0:\n",
    "        row=(row[0],row[1],'No children')\n",
    "    elif row[2]<3:\n",
    "        row=(row[0],row[1],'1 or 2 children')\n",
    "    elif row[2]>2:\n",
    "        row=(row[0],row[1],'3 or more children')\n",
    "    #print(row)\n",
    "    curs.execute(\"INSERT OR IGNORE INTO number_of_children_categorised (respondent_id, study_id, number_of_children_cat) VALUES (?,?,?)\", row)\n",
    "curs.execute(\"CREATE TABLE IF NOT EXISTS numberOfRespondentsChildrenCat AS SELECT number_of_children_cat, count(*) from number_of_children_categorised GROUP BY number_of_children_cat\")\n",
    "\n",
    "conn.commit()\n",
    "conn.close()"
   ]
  },
  {
   "cell_type": "code",
   "execution_count": null,
   "metadata": {},
   "outputs": [],
   "source": []
  }
 ],
 "metadata": {
  "kernelspec": {
   "display_name": "Python 3",
   "language": "python",
   "name": "python3"
  },
  "language_info": {
   "codemirror_mode": {
    "name": "ipython",
    "version": 3
   },
   "file_extension": ".py",
   "mimetype": "text/x-python",
   "name": "python",
   "nbconvert_exporter": "python",
   "pygments_lexer": "ipython3",
   "version": "3.7.1"
  }
 },
 "nbformat": 4,
 "nbformat_minor": 2
}
