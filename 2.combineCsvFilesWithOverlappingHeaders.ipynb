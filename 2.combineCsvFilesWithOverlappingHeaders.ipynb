{
 "cells": [
  {
   "cell_type": "code",
   "execution_count": 3,
   "metadata": {},
   "outputs": [],
   "source": [
    "from glob import iglob\n",
    "import csv\n",
    "from collections import OrderedDict\n",
    "\n",
    "files = sorted(iglob('*WithColumnOfStudyId.csv'))\n",
    "header = OrderedDict()\n",
    "data = []\n",
    "for filename in files:\n",
    "    with open(filename, 'rt', newline='') as fin:\n",
    "        csvin = csv.DictReader(fin)\n",
    "        try:\n",
    "            header.update(OrderedDict.fromkeys(csvin.fieldnames))\n",
    "            for row in csvin:\n",
    "                data.append(row)\n",
    "        except TypeError:\n",
    "            print (filename, 'was empty')\n",
    "        except StopIteration:\n",
    "            print (filename, \"didn't contain a row\")\n",
    "\n",
    "with open('studiesMerged.csv', 'wt', newline='') as fout:\n",
    "    csvout = csv.DictWriter(fout, fieldnames=list(header))\n",
    "    csvout.writeheader()\n",
    "    csvout.writerows(data)"
   ]
  },
  {
   "cell_type": "code",
   "execution_count": null,
   "metadata": {},
   "outputs": [],
   "source": []
  }
 ],
 "metadata": {
  "kernelspec": {
   "display_name": "Python 3",
   "language": "python",
   "name": "python3"
  },
  "language_info": {
   "codemirror_mode": {
    "name": "ipython",
    "version": 3
   },
   "file_extension": ".py",
   "mimetype": "text/x-python",
   "name": "python",
   "nbconvert_exporter": "python",
   "pygments_lexer": "ipython3",
   "version": "3.7.1"
  }
 },
 "nbformat": 4,
 "nbformat_minor": 2
}
