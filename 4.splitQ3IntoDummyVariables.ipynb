{
 "cells": [
  {
   "cell_type": "code",
   "execution_count": 2,
   "metadata": {},
   "outputs": [],
   "source": [
    "import pandas as pd\n",
    "#Name of Csv file\n",
    "filename=\"studiesMerged\"\n",
    "dataRaw=pd.read_csv(filename+'.csv')\n",
    "\n",
    "#Because of blanks in Column 'Q4', the previous line converted\n",
    " #'1' in Column 'Q4' to '1.0' when opened using Notepad.\n",
    "#data2 = dataRaw.astype({\"Q4\": int})  #This line failed.\n",
    "\n",
    "#Replace all \"; \" with \";\"\n",
    "data=dataRaw.replace({'; ':';'}, regex=True)\n",
    "#print(data)\n",
    "\n",
    "Q3Dummies=data['Q3'].str.get_dummies(sep=';').rename(columns=lambda x: 'Q3_' + str(x))\n",
    "dataWithoutQ3=data.drop(['Q3'],axis=1)\n",
    "joined=dataWithoutQ3.join(Q3Dummies) #\"sort=True\" does not work\n",
    "joined.to_csv(filename+\"WithDummies.csv\", index=False)"
   ]
  },
  {
   "cell_type": "code",
   "execution_count": null,
   "metadata": {},
   "outputs": [],
   "source": []
  }
 ],
 "metadata": {
  "kernelspec": {
   "display_name": "Python 3",
   "language": "python",
   "name": "python3"
  },
  "language_info": {
   "codemirror_mode": {
    "name": "ipython",
    "version": 3
   },
   "file_extension": ".py",
   "mimetype": "text/x-python",
   "name": "python",
   "nbconvert_exporter": "python",
   "pygments_lexer": "ipython3",
   "version": "3.7.1"
  }
 },
 "nbformat": 4,
 "nbformat_minor": 2
}
