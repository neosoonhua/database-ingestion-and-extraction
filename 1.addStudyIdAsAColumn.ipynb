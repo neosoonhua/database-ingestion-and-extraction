{
 "cells": [
  {
   "cell_type": "code",
   "execution_count": 2,
   "metadata": {},
   "outputs": [],
   "source": [
    "import pandas as pd\n",
    "#Name of Csv file\n",
    "filename=\"study_101\"\n",
    "csvData=pd.read_csv(filename+'.csv')\n",
    "csvData.columns = [c.replace(' ', '_') for c in csvData.columns]\n",
    "csvData['study_id']=101\n",
    "csvData.to_csv(filename+\"WithColumnOfStudyId.csv\", index=False)\n",
    "\n",
    "#Name of Csv file\n",
    "filename=\"study_102\"\n",
    "csvData=pd.read_csv(filename+'.csv')\n",
    "csvData.columns = [c.replace(' ', '_') for c in csvData.columns]\n",
    "csvData['study_id']=102\n",
    "csvData.to_csv(filename+\"WithColumnOfStudyId.csv\", index=False)"
   ]
  },
  {
   "cell_type": "code",
   "execution_count": null,
   "metadata": {},
   "outputs": [],
   "source": []
  }
 ],
 "metadata": {
  "kernelspec": {
   "display_name": "Python 3",
   "language": "python",
   "name": "python3"
  },
  "language_info": {
   "codemirror_mode": {
    "name": "ipython",
    "version": 3
   },
   "file_extension": ".py",
   "mimetype": "text/x-python",
   "name": "python",
   "nbconvert_exporter": "python",
   "pygments_lexer": "ipython3",
   "version": "3.7.1"
  }
 },
 "nbformat": 4,
 "nbformat_minor": 2
}
