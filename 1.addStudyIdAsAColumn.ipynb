{
 "cells": [
  {
   "cell_type": "code",
   "execution_count": 1,
   "metadata": {},
   "outputs": [],
   "source": [
    "import pandas as pd\n",
    "\n",
    "def addStudyIdAsAColumn(study_id):\n",
    "    #Name of Csv file\n",
    "    filename=\"study_\"+str(study_id)\n",
    "    csvData=pd.read_csv(filename+'.csv')\n",
    "    csvData.columns = [c.replace(' ', '_') for c in csvData.columns]\n",
    "    csvData['study_id']=study_id\n",
    "    csvData.to_csv(filename+\"WithColumnOfStudyId.csv\", index=False)\n",
    "    \n",
    "addStudyIdAsAColumn(101)\n",
    "addStudyIdAsAColumn(102)"
   ]
  },
  {
   "cell_type": "code",
   "execution_count": null,
   "metadata": {},
   "outputs": [],
   "source": []
  }
 ],
 "metadata": {
  "kernelspec": {
   "display_name": "Python 3",
   "language": "python",
   "name": "python3"
  },
  "language_info": {
   "codemirror_mode": {
    "name": "ipython",
    "version": 3
   },
   "file_extension": ".py",
   "mimetype": "text/x-python",
   "name": "python",
   "nbconvert_exporter": "python",
   "pygments_lexer": "ipython3",
   "version": "3.7.1"
  }
 },
 "nbformat": 4,
 "nbformat_minor": 2
}
