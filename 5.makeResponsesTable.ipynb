{
 "cells": [
  {
   "cell_type": "code",
   "execution_count": 2,
   "metadata": {},
   "outputs": [],
   "source": [
    "import pandas as pd\n",
    "#Name of Csv file\n",
    "filename=\"studiesMergedWithDummies\"\n",
    "#cols = list(pd.read_csv(filename+\".csv\", nrows =1))\n",
    "#print(cols)\n",
    "dataRaw=pd.read_csv(filename+'.csv',\n",
    " usecols=['respondent_id', 'Q1', 'Q2', 'Q4', 'Q5',\n",
    "    'study_id', 'Q3_1', 'Q3_2', 'Q3_3', 'Q3_4', 'Q3_5', 'Q3_6'])\n",
    "#print(dataRaw)\n",
    "\n",
    "data=pd.melt(dataRaw, id_vars=['respondent_id', 'study_id'],\n",
    " value_vars=['Q1', 'Q2', 'Q3_1', 'Q3_2', 'Q3_3', 'Q3_4', 'Q3_5',\n",
    "             'Q3_6', 'Q4', 'Q5'],\n",
    " var_name='question_id', value_name='response')\n",
    "#print(data)\n",
    "\n",
    "#Remove rows with missing values\n",
    "indexMissingResponses = data.response.isnull()\n",
    "data2 = data[indexMissingResponses != True]\n",
    "\n",
    "#Without the next line, response would be type real in .db file\n",
    "data3 = data2.astype({\"response\": int})\n",
    "\n",
    "data3.index += 1\n",
    "data3.to_csv(\"responses_table.csv\", index_label=\"id\")"
   ]
  },
  {
   "cell_type": "code",
   "execution_count": null,
   "metadata": {},
   "outputs": [],
   "source": []
  }
 ],
 "metadata": {
  "kernelspec": {
   "display_name": "Python 3",
   "language": "python",
   "name": "python3"
  },
  "language_info": {
   "codemirror_mode": {
    "name": "ipython",
    "version": 3
   },
   "file_extension": ".py",
   "mimetype": "text/x-python",
   "name": "python",
   "nbconvert_exporter": "python",
   "pygments_lexer": "ipython3",
   "version": "3.7.1"
  }
 },
 "nbformat": 4,
 "nbformat_minor": 2
}
