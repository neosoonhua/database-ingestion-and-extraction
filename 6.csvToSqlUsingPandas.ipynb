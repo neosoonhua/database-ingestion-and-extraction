{
 "cells": [
  {
   "cell_type": "code",
   "execution_count": 2,
   "metadata": {},
   "outputs": [],
   "source": [
    "import sqlite3\n",
    "import pandas as pd\n",
    "from glob import iglob\n",
    "\n",
    "#Name of Csv files. SQLite database will have extension .db\n",
    "files = sorted(iglob('*table.csv'))\n",
    "\n",
    "con=sqlite3.connect(\"studies101And102.db\")\n",
    "for filename in files:\n",
    "    csvData=pd.read_csv(filename)\n",
    "    #[:-4] in next line drops last 4 characters \".csv\" from filename\n",
    "    csvData.to_sql(filename[:-4], con, index=False)\n",
    "                        \n",
    "con.commit()\n",
    "con.close()"
   ]
  },
  {
   "cell_type": "code",
   "execution_count": null,
   "metadata": {},
   "outputs": [],
   "source": []
  }
 ],
 "metadata": {
  "kernelspec": {
   "display_name": "Python 3",
   "language": "python",
   "name": "python3"
  },
  "language_info": {
   "codemirror_mode": {
    "name": "ipython",
    "version": 3
   },
   "file_extension": ".py",
   "mimetype": "text/x-python",
   "name": "python",
   "nbconvert_exporter": "python",
   "pygments_lexer": "ipython3",
   "version": "3.7.1"
  }
 },
 "nbformat": 4,
 "nbformat_minor": 2
}
